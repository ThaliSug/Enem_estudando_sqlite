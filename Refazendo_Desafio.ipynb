{
 "cells": [
  {
   "cell_type": "code",
   "execution_count": 1,
   "id": "c2b6cb41",
   "metadata": {},
   "outputs": [],
   "source": [
    "import pandas as pd\n",
    "import seaborn as sns\n",
    "import matplotlib.pyplot as plt\n",
    "import sqlite3"
   ]
  },
  {
   "cell_type": "code",
   "execution_count": null,
   "id": "b9c750f5",
   "metadata": {},
   "outputs": [],
   "source": []
  },
  {
   "cell_type": "code",
   "execution_count": 2,
   "id": "b04ff119",
   "metadata": {},
   "outputs": [],
   "source": [
  },
  {
   "cell_type": "code",
   "execution_count": 3,
   "id": "94e63717",
   "metadata": {},
   "outputs": [
    {
     "data": {
      "text/html": [
       "<div>\n",
       "<style scoped>\n",
       "    .dataframe tbody tr th:only-of-type {\n",
       "        vertical-align: middle;\n",
       "    }\n",
       "\n",
       "    .dataframe tbody tr th {\n",
       "        vertical-align: top;\n",
       "    }\n",
       "\n",
       "    .dataframe thead th {\n",
       "        text-align: right;\n",
       "    }\n",
       "</style>\n",
       "<table border=\"1\" class=\"dataframe\">\n",
       "  <thead>\n",
       "    <tr style=\"text-align: right;\">\n",
       "      <th></th>\n",
       "      <th>type</th>\n",
       "      <th>name</th>\n",
       "      <th>tbl_name</th>\n",
       "      <th>rootpage</th>\n",
       "      <th>sql</th>\n",
       "    </tr>\n",
       "  </thead>\n",
       "  <tbody>\n",
       "    <tr>\n",
       "      <th>0</th>\n",
       "      <td>table</td>\n",
       "      <td>DM_ALUNO</td>\n",
       "      <td>DM_ALUNO</td>\n",
       "      <td>2</td>\n",
       "      <td>CREATE TABLE \"DM_ALUNO\" (\\n\"CO_IES\" INTEGER,\\n...</td>\n",
       "    </tr>\n",
       "    <tr>\n",
       "      <th>1</th>\n",
       "      <td>table</td>\n",
       "      <td>DM_CURSO</td>\n",
       "      <td>DM_CURSO</td>\n",
       "      <td>1376835</td>\n",
       "      <td>CREATE TABLE \"DM_CURSO\" (\\n\"CO_IES\" INTEGER,\\n...</td>\n",
       "    </tr>\n",
       "    <tr>\n",
       "      <th>2</th>\n",
       "      <td>table</td>\n",
       "      <td>DM_DOCENTE</td>\n",
       "      <td>DM_DOCENTE</td>\n",
       "      <td>1380554</td>\n",
       "      <td>CREATE TABLE \"DM_DOCENTE\" (\\n\"CO_IES\" INTEGER,...</td>\n",
       "    </tr>\n",
       "    <tr>\n",
       "      <th>3</th>\n",
       "      <td>table</td>\n",
       "      <td>DM_IES</td>\n",
       "      <td>DM_IES</td>\n",
       "      <td>1404217</td>\n",
       "      <td>CREATE TABLE \"DM_IES\" (\\n\"CO_IES\" INTEGER,\\n  ...</td>\n",
       "    </tr>\n",
       "    <tr>\n",
       "      <th>4</th>\n",
       "      <td>table</td>\n",
       "      <td>DM_LOCAL_OFERTA</td>\n",
       "      <td>DM_LOCAL_OFERTA</td>\n",
       "      <td>1404385</td>\n",
       "      <td>CREATE TABLE \"DM_LOCAL_OFERTA\" (\\n\"CO_LOCAL_OF...</td>\n",
       "    </tr>\n",
       "  </tbody>\n",
       "</table>\n",
       "</div>"
      ],
      "text/plain": [
       "    type             name         tbl_name  rootpage  \\\n",
       "0  table         DM_ALUNO         DM_ALUNO         2   \n",
       "1  table         DM_CURSO         DM_CURSO   1376835   \n",
       "2  table       DM_DOCENTE       DM_DOCENTE   1380554   \n",
       "3  table           DM_IES           DM_IES   1404217   \n",
       "4  table  DM_LOCAL_OFERTA  DM_LOCAL_OFERTA   1404385   \n",
       "\n",
       "                                                 sql  \n",
       "0  CREATE TABLE \"DM_ALUNO\" (\\n\"CO_IES\" INTEGER,\\n...  \n",
       "1  CREATE TABLE \"DM_CURSO\" (\\n\"CO_IES\" INTEGER,\\n...  \n",
       "2  CREATE TABLE \"DM_DOCENTE\" (\\n\"CO_IES\" INTEGER,...  \n",
       "3  CREATE TABLE \"DM_IES\" (\\n\"CO_IES\" INTEGER,\\n  ...  \n",
       "4  CREATE TABLE \"DM_LOCAL_OFERTA\" (\\n\"CO_LOCAL_OF...  "
      ]
     },
     "execution_count": 3,
     "metadata": {},
     "output_type": "execute_result"
    }
   ],
   "source": [
    "# transformando arquivo csv para db\n",
    "## Primeiro conecta\n",
    "db_name = 'db_inep'\n",
    "con = sqlite3.connect(f'{db_name}.db')\n",
    "\n",
    "pd.read_sql_query('SELECT * FROM sqlite_master',con)"
   ]
  },
  {
   "cell_type": "code",
   "execution_count": null,
   "id": "727a697e",
   "metadata": {},
   "outputs": [],
   "source": [
    "#Trazendo a Table Aluno pra dar uma verificada\n",
    "alunos = pd.read_sql_query('SELECT * FROM DM_ALUNO',con)"
   ]
  },
  {
   "cell_type": "code",
   "execution_count": 4,
   "id": "44e6f98f",
   "metadata": {},
   "outputs": [],
   "source": [
    "curso = pd.read_sql_query('SELECT * FROM DM_CURSO',con)\n",
    "docente = pd.read_sql_query('SELECT * FROM DM_DOCENTE ',con)\n",
    "ies = pd.read_sql_query('SELECT * FROM DM_IES',con)\n",
    "local = pd.read_sql_query('SELECT * FROM DM_LOCAL_OFERTA ',con)"
   ]
  },
  {
   "cell_type": "code",
   "execution_count": null,
   "id": "efc7a750",
   "metadata": {},
   "outputs": [],
   "source": []
  }
 ],
 "metadata": {
  "kernelspec": {
   "display_name": "Python 3 (ipykernel)",
   "language": "python",
   "name": "python3"
  },
  "language_info": {
   "codemirror_mode": {
    "name": "ipython",
    "version": 3
   },
   "file_extension": ".py",
   "mimetype": "text/x-python",
   "name": "python",
   "nbconvert_exporter": "python",
   "pygments_lexer": "ipython3",
   "version": "3.8.11"
  }
 },
 "nbformat": 4,
 "nbformat_minor": 5
}
